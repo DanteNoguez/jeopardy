{
 "cells": [
  {
   "cell_type": "markdown",
   "metadata": {},
   "source": [
    "# This is Jeopardy!"
   ]
  },
  {
   "cell_type": "markdown",
   "metadata": {},
   "source": [
    "#### Overview"
   ]
  },
  {
   "cell_type": "markdown",
   "metadata": {},
   "source": [
    "This project is slightly different than others you have encountered thus far. Instead of a step-by-step tutorial, this project contains a series of open-ended requirements which describe the project you'll be building. There are many possible ways to correctly fulfill all of these requirements, and you should expect to use the internet, Codecademy, and/or other resources when you encounter a problem that you cannot easily solve."
   ]
  },
  {
   "cell_type": "markdown",
   "metadata": {},
   "source": [
    "#### Project Goals"
   ]
  },
  {
   "cell_type": "markdown",
   "metadata": {},
   "source": [
    "You will work to write several functions that investigate a dataset of _Jeopardy!_ questions and answers. Filter the dataset for topics that you're interested in, compute the average difficulty of those questions, and train to become the next Jeopardy champion!"
   ]
  },
  {
   "cell_type": "markdown",
   "metadata": {},
   "source": [
    "## Prerequisites"
   ]
  },
  {
   "cell_type": "markdown",
   "metadata": {},
   "source": [
    "In order to complete this project, you should have completed the Pandas lessons in the <a href=\"https://www.codecademy.com/learn/paths/analyze-data-with-python\">Analyze Data with Python Skill Path</a>. You can also find those lessons in the <a href=\"https://www.codecademy.com/learn/data-processing-pandas\">Data Analysis with Pandas course</a> or the <a href=\"https://www.codecademy.com/learn/paths/data-science/\">Data Scientist Career Path</a>.\n",
    "\n",
    "Finally, the <a href=\"https://www.codecademy.com/learn/practical-data-cleaning\">Practical Data Cleaning</a> course may also be helpful."
   ]
  },
  {
   "cell_type": "markdown",
   "metadata": {},
   "source": [
    "## Project Requirements"
   ]
  },
  {
   "cell_type": "markdown",
   "metadata": {},
   "source": [
    "1. We've provided a csv file containing data about the game show _Jeopardy!_ in a file named `jeopardy.csv`. Load the data into a DataFrame and investigate its contents. Try to print out specific columns.\n",
    "\n",
    "   Note that in order to make this project as \"real-world\" as possible, we haven't modified the data at all - we're giving it to you exactly how we found it. As a result, this data isn't as \"clean\" as the datasets you normally find on Codecademy. More specifically, there's something odd about the column names. After you figure out the problem with the column names, you may want to rename them to make your life easier for the rest of the project.\n",
    "   \n",
    "   In order to display the full contents of a column, we've added this line of code for you:\n",
    "   \n",
    "   ```py\n",
    "   pd.set_option('display.max_colwidth', None)\n",
    "   ```"
   ]
  },
  {
   "cell_type": "code",
   "execution_count": 2,
   "metadata": {},
   "outputs": [
    {
     "name": "stdout",
     "output_type": "stream",
     "text": [
      "   show_number    air_date      round                         category value  \\\n",
      "0         4680  2004-12-31  Jeopardy!                          HISTORY  $200   \n",
      "1         4680  2004-12-31  Jeopardy!  ESPN's TOP 10 ALL-TIME ATHLETES  $200   \n",
      "2         4680  2004-12-31  Jeopardy!      EVERYBODY TALKS ABOUT IT...  $200   \n",
      "3         4680  2004-12-31  Jeopardy!                 THE COMPANY LINE  $200   \n",
      "4         4680  2004-12-31  Jeopardy!              EPITAPHS & TRIBUTES  $200   \n",
      "5         4680  2004-12-31  Jeopardy!                   3-LETTER WORDS  $200   \n",
      "6         4680  2004-12-31  Jeopardy!                          HISTORY  $400   \n",
      "7         4680  2004-12-31  Jeopardy!  ESPN's TOP 10 ALL-TIME ATHLETES  $400   \n",
      "8         4680  2004-12-31  Jeopardy!      EVERYBODY TALKS ABOUT IT...  $400   \n",
      "9         4680  2004-12-31  Jeopardy!                 THE COMPANY LINE  $400   \n",
      "\n",
      "                                                                                                        question  \\\n",
      "0               For the last 8 years of his life, Galileo was under house arrest for espousing this man's theory   \n",
      "1    No. 2: 1912 Olympian; football star at Carlisle Indian School; 6 MLB seasons with the Reds, Giants & Braves   \n",
      "2                       The city of Yuma in this state has a record average of 4,055 hours of sunshine each year   \n",
      "3                           In 1963, live on \"The Art Linkletter Show\", this company served its billionth burger   \n",
      "4       Signer of the Dec. of Indep., framer of the Constitution of Mass., second President of the United States   \n",
      "5                                  In the title of an Aesop fable, this insect shared billing with a grasshopper   \n",
      "6                                   Built in 312 B.C. to link Rome & the South of Italy, it's still in use today   \n",
      "7                                         No. 8: 30 steals for the Birmingham Barons; 2,306 steals for the Bulls   \n",
      "8  In the winter of 1971-72, a record 1,122 inches of snow fell at Rainier Paradise Ranger Station in this state   \n",
      "9             This housewares store was named for the packaging its merchandise came in & was first displayed on   \n",
      "\n",
      "           answer  \n",
      "0      Copernicus  \n",
      "1      Jim Thorpe  \n",
      "2         Arizona  \n",
      "3      McDonald's  \n",
      "4      John Adams  \n",
      "5         the ant  \n",
      "6  the Appian Way  \n",
      "7  Michael Jordan  \n",
      "8      Washington  \n",
      "9  Crate & Barrel  \n"
     ]
    }
   ],
   "source": [
    "import pandas as pd\n",
    "pd.set_option('display.max_colwidth', None)\n",
    "\n",
    "df = pd.read_csv('jeopardy.csv')\n",
    "\n",
    "df.columns = ['show_number', 'air_date', 'round', 'category', 'value', 'question', 'answer']\n",
    "print(df.head(10))"
   ]
  },
  {
   "cell_type": "markdown",
   "metadata": {},
   "source": [
    "2. Write a function that filters the dataset for questions that contains all of the words in a list of words. For example, when the list `[\"King\", \"England\"]` was passed to our function, the function returned a DataFrame of 49 rows. Every row had the strings `\"King\"` and `\"England\"` somewhere in its `\" Question\"`.\n",
    "\n",
    "   Test your function by printing out the column containing the question of each row of the dataset."
   ]
  },
  {
   "cell_type": "code",
   "execution_count": 3,
   "metadata": {},
   "outputs": [],
   "source": [
    "def df_filter(df, words):\n",
    "    new_list = []\n",
    "    for word in words:\n",
    "        new_word = '\\s' + word + '\\s'\n",
    "        new_list.append(new_word)\n",
    "    matches = df[df['question'].str.contains('|'.join(new_list), regex=True, case=False)]\n",
    "    return matches['question']"
   ]
  },
  {
   "cell_type": "markdown",
   "metadata": {},
   "source": [
    "3. Test your original function with a few different sets of words to try to find some ways your function breaks. Edit your function so it is more robust.\n",
    "\n",
    "   For example, think about capitalization. We probably want to find questions that contain the word `\"King\"` or `\"king\"`.\n",
    "   \n",
    "   You may also want to check to make sure you don't find rows that contain substrings of your given words. For example, our function found a question that didn't contain the word `\"king\"`, however it did contain the word `\"viking\"` &mdash; it found the `\"king\"` inside `\"viking\"`. Note that this also comes with some drawbacks &mdash; you would no longer find questions that contained words like `\"England's\"`."
   ]
  },
  {
   "cell_type": "code",
   "execution_count": 4,
   "metadata": {},
   "outputs": [
    {
     "name": "stdout",
     "output_type": "stream",
     "text": [
      "40     <a href=\"http://www.j-archive.com/media/2004-12-31_DJ_26.mp3\">Ripped from today's headlines, he was a turtle king gone mad; Mack was the one good turtle who'd bring him down</a>\n",
      "116                                                                                                                 She was born in Virginia around 1596 & died in Kent, England in 1617\n",
      "296                                                                                             On December 27, 1831 it departed Plymouth, England to map the coastline of South America\n",
      "386                                                                                               The Tanglewood Music Festival is a summer highlight in Lenox in this New England state\n",
      "781                                                                                                             A Norman could say, \"I'm the king of the motte-and-bailey style of\" this\n",
      "Name: question, dtype: object\n"
     ]
    }
   ],
   "source": [
    "test_filter = df_filter(df, ['england', 'king'])\n",
    "print(test_filter.head(5))"
   ]
  },
  {
   "cell_type": "markdown",
   "metadata": {},
   "source": [
    "4. We may want to eventually compute aggregate statistics, like `.mean()` on the `\" Value\"` column. But right now, the values in that column are strings. Convert the`\" Value\"` column to floats. If you'd like to, you can create a new column with float values.\n",
    "\n",
    "   Now that you can filter the dataset of question, use your new column that contains the float values of each question to find the \"difficulty\" of certain topics. For example, what is the average value of questions that contain the word `\"King\"`?\n",
    "   \n",
    "   Make sure to use the dataset that contains the float values as the dataset you use in your filtering function."
   ]
  },
  {
   "cell_type": "code",
   "execution_count": 8,
   "metadata": {},
   "outputs": [
    {
     "name": "stdout",
     "output_type": "stream",
     "text": [
      "0    200.0\n",
      "1    200.0\n",
      "2    200.0\n",
      "3    200.0\n",
      "4    200.0\n",
      "5    200.0\n",
      "6    400.0\n",
      "7    400.0\n",
      "8    400.0\n",
      "9    400.0\n",
      "Name: floats, dtype: float64\n"
     ]
    }
   ],
   "source": [
    "df.value = df['value'].replace('[\\$,None]', '', regex=True)\n",
    "df['floats'] = pd.to_numeric(df.value)\n",
    "print(df.floats.head(10))"
   ]
  },
  {
   "cell_type": "markdown",
   "metadata": {},
   "source": [
    "5. Write a function that returns the count of unique answers to all of the questions in a dataset. For example, after filtering the entire dataset to only questions containing the word `\"King\"`, we could then find all of the unique answers to those questions. The answer \"Henry VIII\" appeared 55 times and was the most common answer."
   ]
  },
  {
   "cell_type": "code",
   "execution_count": 28,
   "metadata": {},
   "outputs": [
    {
     "name": "stdout",
     "output_type": "stream",
     "text": [
      "                                                                                                                                                                            question  \\\n",
      "1546                                                                  This Brit comic cross-dresser: \"Guns don't kill people, people do... but monkeys do too, if they've got a gun\"   \n",
      "2873                                                                                  This snack cake, which turned 60 in 1990, was originally filled with banana creme, not vanilla   \n",
      "4619                                                                              When this Mouseketeer starred in \"The Monkey's Uncle\", she sang the title tune with The Beach Boys   \n",
      "4996                                                                                                                                            Quality of ice, eels, & banana peels   \n",
      "6355                                                                                                                        Kangaroos, monkeys & Boy Scouts all come in these groups   \n",
      "6782                                                                                                        After the taping, what say we cool off with a frozen banana one of these   \n",
      "8477   We are bananas about <a href=\"http://www.j-archive.com/media/2011-04-22_DJ_20.jpg\" target=\"_blank\">this</a> celebrity stylist; the show titled her \"Project\" is seen on Bravo   \n",
      "9568                                                                   Dare: Imitate Kikazaru, the monkey who illustrates this phrase that goes with \"see no evil\" & \"speak no evil\"   \n",
      "11951                                                                          The book \"Fashionable Food\" tells how to make a \"truly awful\" salad with a banana & this cinema snack   \n",
      "12000                                                                                                                  The smallest of all monkeys is the pygmy type of this primate   \n",
      "\n",
      "       floats             answer  \n",
      "1546   2000.0       Eddie Izzard  \n",
      "2873    300.0           Twinkies  \n",
      "4619    100.0  Annette Funicello  \n",
      "4996    400.0       slipperiness  \n",
      "6355    200.0             troops  \n",
      "6782    400.0           daiquiri  \n",
      "8477   2000.0         Rachel Zoe  \n",
      "9568    200.0     \"hear no evil\"  \n",
      "11951   100.0            popcorn  \n",
      "12000  1000.0         a marmoset  \n",
      "Index(['question', 'floats', 'answer'], dtype='object')\n",
      "751.9607843137255\n",
      "600.0\n",
      "539.3355503700625\n",
      "<bound method Series.unique of 0                             Copernicus\n",
      "1                             Jim Thorpe\n",
      "2                                Arizona\n",
      "3                             McDonald's\n",
      "4                             John Adams\n",
      "                       ...              \n",
      "216924                             Stomp\n",
      "216925                          Turandot\n",
      "216926                        a titmouse\n",
      "216928                          Geronimo\n",
      "216929    Grigori Alexandrovich Potemkin\n",
      "Name: answer, Length: 188256, dtype: object>\n"
     ]
    }
   ],
   "source": [
    "def df_answers(df, words):\n",
    "    new_list = []\n",
    "    for word in words:\n",
    "        new_word = '\\s' + word + '\\'?\\w?\\s'\n",
    "        new_list.append(new_word)\n",
    "    matches = df[df['question'].str.contains('|'.join(new_list), regex=True, case=False)]\n",
    "    return matches[['question', 'floats', 'answer']]\n",
    "\n",
    "answers_test = df_answers(df, ['banana', 'monkey'])\n",
    "all_answers = df_answers(df, ['\\w'])\n",
    "\n",
    "print(answers_test.head(10))\n",
    "print(answers_test.columns)\n",
    "print(answers_test.floats.mean())\n",
    "print(answers_test.floats.median())\n",
    "print(answers_test.floats.std())\n",
    "print(all_answers.answer.unique)"
   ]
  }
 ],
 "metadata": {
  "kernelspec": {
   "display_name": "Python 3 (ipykernel)",
   "language": "python",
   "name": "python3"
  },
  "language_info": {
   "codemirror_mode": {
    "name": "ipython",
    "version": 3
   },
   "file_extension": ".py",
   "mimetype": "text/x-python",
   "name": "python",
   "nbconvert_exporter": "python",
   "pygments_lexer": "ipython3",
   "version": "3.9.7"
  }
 },
 "nbformat": 4,
 "nbformat_minor": 2
}
